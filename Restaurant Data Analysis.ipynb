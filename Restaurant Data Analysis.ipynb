{
 "cells": [
  {
   "cell_type": "markdown",
   "id": "af3d9241-fe70-4385-bd97-d744e1b6c8ac",
   "metadata": {},
   "source": [
    "# Restaurant Data Analysis"
   ]
  },
  {
   "cell_type": "markdown",
   "id": "acd5dcdf-0ba0-4638-adf4-290b189bb482",
   "metadata": {},
   "source": [
    "## <span style='color:blue'>Data Description</span>"
   ]
  },
  {
   "cell_type": "markdown",
   "id": "9dc56fbc-416d-4428-b964-6ae2a084deb3",
   "metadata": {},
   "source": [
    "### Description of Columns"
   ]
  },
  {
   "cell_type": "markdown",
   "id": "dd6373c9-9760-4490-bd3c-ca3b69cf61e1",
   "metadata": {},
   "source": [
    "**1. Restaurant ID:** A unique identifier for each restaurant.\n",
    "\n",
    "**2. Restaurant Name:** The name of the restaurant.\n",
    "\n",
    "**3. Country Code:** A code representing the country where the restaurant is located.\n",
    "\n",
    "**4. City:** The city where the restaurant is located.\n",
    "\n",
    "**5. Address:** The specific address of the restaurant.\n",
    "\n",
    "**6. Locality:** The neighborhood or district within the city where the restaurant is situated.\n",
    "\n",
    "**7. Locality Verbose:** A more detailed description of the locality or neighborhood.\n",
    "\n",
    "**8. Longitude:** The longitude coordinate of the restaurant's location.\n",
    "\n",
    "**9. Latitude:** The latitude coordinate of the restaurant's location.\n",
    "\n",
    "**10. Cuisines:** A list of cuisined offered by the restaurant, which may include multiple types separated by commas.\n",
    "\n",
    "**11. Average cost fro two:** The average cost of a meal for two people at the restaurant, usually in local currency.\n",
    "\n",
    "**12. Currency:** The currency used to express the average cost for two.\n",
    "\n",
    "**13. Has Table Booking:** Indicates whether the restaurant accepts table reservations (usually a boolean value or 'Yes'/'No').\n",
    "\n",
    "**14. Has Online delivery:** Indicates whether the restaurant offers online delivery services (usually a boolean value or 'Yes'/'No').\n",
    "\n",
    "**15. Is delivering now:** Indicates whether the restaurant is currently delivering (usually a boolean value or 'Yes'/'No').\n",
    "\n",
    "**16. Switch to order menu:** Indicates whether there is an option to switch to an order menu (usually a boolean value or 'Yes'/'No').\n",
    "\n",
    "**17. Price range:** The categorical value representing the general price range of the restaurant.\n",
    "\n",
    "**18. Aggregate Rating:** The overall rating of the restaurant, often an average of customer ratings.\n",
    "\n",
    "**19. Rating Color:** A color code or description associated with the restaurant's rating.\n",
    "\n",
    "**20. Rating Text:** A textual description of the rating.\n",
    "\n",
    "**21. Votes:** The number of votes or reviews the restaurant has received from customers."
   ]
  },
  {
   "cell_type": "markdown",
   "id": "32366198-c0c4-4fd7-bf9e-4bff2902a4ac",
   "metadata": {},
   "source": [
    "## <span style='color:blue'>Load Dataset</span>"
   ]
  },
  {
   "cell_type": "code",
   "execution_count": 2,
   "id": "fb9ee520-3b94-42a6-9302-9ab4c92b9340",
   "metadata": {},
   "outputs": [],
   "source": [
    "import numpy as np\n",
    "import pandas as pd"
   ]
  },
  {
   "cell_type": "code",
   "execution_count": 3,
   "id": "4b450022-756b-493b-b922-a4b76e25662d",
   "metadata": {},
   "outputs": [
    {
     "data": {
      "text/html": [
       "<div>\n",
       "<style scoped>\n",
       "    .dataframe tbody tr th:only-of-type {\n",
       "        vertical-align: middle;\n",
       "    }\n",
       "\n",
       "    .dataframe tbody tr th {\n",
       "        vertical-align: top;\n",
       "    }\n",
       "\n",
       "    .dataframe thead th {\n",
       "        text-align: right;\n",
       "    }\n",
       "</style>\n",
       "<table border=\"1\" class=\"dataframe\">\n",
       "  <thead>\n",
       "    <tr style=\"text-align: right;\">\n",
       "      <th></th>\n",
       "      <th>Restaurant ID</th>\n",
       "      <th>Restaurant Name</th>\n",
       "      <th>Country Code</th>\n",
       "      <th>City</th>\n",
       "      <th>Address</th>\n",
       "      <th>Locality</th>\n",
       "      <th>Locality Verbose</th>\n",
       "      <th>Longitude</th>\n",
       "      <th>Latitude</th>\n",
       "      <th>Cuisines</th>\n",
       "      <th>...</th>\n",
       "      <th>Currency</th>\n",
       "      <th>Has Table booking</th>\n",
       "      <th>Has Online delivery</th>\n",
       "      <th>Is delivering now</th>\n",
       "      <th>Switch to order menu</th>\n",
       "      <th>Price range</th>\n",
       "      <th>Aggregate rating</th>\n",
       "      <th>Rating color</th>\n",
       "      <th>Rating text</th>\n",
       "      <th>Votes</th>\n",
       "    </tr>\n",
       "  </thead>\n",
       "  <tbody>\n",
       "    <tr>\n",
       "      <th>0</th>\n",
       "      <td>6317637</td>\n",
       "      <td>Le Petit Souffle</td>\n",
       "      <td>162</td>\n",
       "      <td>Makati City</td>\n",
       "      <td>Third Floor, Century City Mall, Kalayaan Avenu...</td>\n",
       "      <td>Century City Mall, Poblacion, Makati City</td>\n",
       "      <td>Century City Mall, Poblacion, Makati City, Mak...</td>\n",
       "      <td>121.027535</td>\n",
       "      <td>14.565443</td>\n",
       "      <td>French, Japanese, Desserts</td>\n",
       "      <td>...</td>\n",
       "      <td>Botswana Pula(P)</td>\n",
       "      <td>Yes</td>\n",
       "      <td>No</td>\n",
       "      <td>No</td>\n",
       "      <td>No</td>\n",
       "      <td>3</td>\n",
       "      <td>4.8</td>\n",
       "      <td>Dark Green</td>\n",
       "      <td>Excellent</td>\n",
       "      <td>314</td>\n",
       "    </tr>\n",
       "    <tr>\n",
       "      <th>1</th>\n",
       "      <td>6304287</td>\n",
       "      <td>Izakaya Kikufuji</td>\n",
       "      <td>162</td>\n",
       "      <td>Makati City</td>\n",
       "      <td>Little Tokyo, 2277 Chino Roces Avenue, Legaspi...</td>\n",
       "      <td>Little Tokyo, Legaspi Village, Makati City</td>\n",
       "      <td>Little Tokyo, Legaspi Village, Makati City, Ma...</td>\n",
       "      <td>121.014101</td>\n",
       "      <td>14.553708</td>\n",
       "      <td>Japanese</td>\n",
       "      <td>...</td>\n",
       "      <td>Botswana Pula(P)</td>\n",
       "      <td>Yes</td>\n",
       "      <td>No</td>\n",
       "      <td>No</td>\n",
       "      <td>No</td>\n",
       "      <td>3</td>\n",
       "      <td>4.5</td>\n",
       "      <td>Dark Green</td>\n",
       "      <td>Excellent</td>\n",
       "      <td>591</td>\n",
       "    </tr>\n",
       "    <tr>\n",
       "      <th>2</th>\n",
       "      <td>6300002</td>\n",
       "      <td>Heat - Edsa Shangri-La</td>\n",
       "      <td>162</td>\n",
       "      <td>Mandaluyong City</td>\n",
       "      <td>Edsa Shangri-La, 1 Garden Way, Ortigas, Mandal...</td>\n",
       "      <td>Edsa Shangri-La, Ortigas, Mandaluyong City</td>\n",
       "      <td>Edsa Shangri-La, Ortigas, Mandaluyong City, Ma...</td>\n",
       "      <td>121.056831</td>\n",
       "      <td>14.581404</td>\n",
       "      <td>Seafood, Asian, Filipino, Indian</td>\n",
       "      <td>...</td>\n",
       "      <td>Botswana Pula(P)</td>\n",
       "      <td>Yes</td>\n",
       "      <td>No</td>\n",
       "      <td>No</td>\n",
       "      <td>No</td>\n",
       "      <td>4</td>\n",
       "      <td>4.4</td>\n",
       "      <td>Green</td>\n",
       "      <td>Very Good</td>\n",
       "      <td>270</td>\n",
       "    </tr>\n",
       "    <tr>\n",
       "      <th>3</th>\n",
       "      <td>6318506</td>\n",
       "      <td>Ooma</td>\n",
       "      <td>162</td>\n",
       "      <td>Mandaluyong City</td>\n",
       "      <td>Third Floor, Mega Fashion Hall, SM Megamall, O...</td>\n",
       "      <td>SM Megamall, Ortigas, Mandaluyong City</td>\n",
       "      <td>SM Megamall, Ortigas, Mandaluyong City, Mandal...</td>\n",
       "      <td>121.056475</td>\n",
       "      <td>14.585318</td>\n",
       "      <td>Japanese, Sushi</td>\n",
       "      <td>...</td>\n",
       "      <td>Botswana Pula(P)</td>\n",
       "      <td>No</td>\n",
       "      <td>No</td>\n",
       "      <td>No</td>\n",
       "      <td>No</td>\n",
       "      <td>4</td>\n",
       "      <td>4.9</td>\n",
       "      <td>Dark Green</td>\n",
       "      <td>Excellent</td>\n",
       "      <td>365</td>\n",
       "    </tr>\n",
       "    <tr>\n",
       "      <th>4</th>\n",
       "      <td>6314302</td>\n",
       "      <td>Sambo Kojin</td>\n",
       "      <td>162</td>\n",
       "      <td>Mandaluyong City</td>\n",
       "      <td>Third Floor, Mega Atrium, SM Megamall, Ortigas...</td>\n",
       "      <td>SM Megamall, Ortigas, Mandaluyong City</td>\n",
       "      <td>SM Megamall, Ortigas, Mandaluyong City, Mandal...</td>\n",
       "      <td>121.057508</td>\n",
       "      <td>14.584450</td>\n",
       "      <td>Japanese, Korean</td>\n",
       "      <td>...</td>\n",
       "      <td>Botswana Pula(P)</td>\n",
       "      <td>Yes</td>\n",
       "      <td>No</td>\n",
       "      <td>No</td>\n",
       "      <td>No</td>\n",
       "      <td>4</td>\n",
       "      <td>4.8</td>\n",
       "      <td>Dark Green</td>\n",
       "      <td>Excellent</td>\n",
       "      <td>229</td>\n",
       "    </tr>\n",
       "  </tbody>\n",
       "</table>\n",
       "<p>5 rows × 21 columns</p>\n",
       "</div>"
      ],
      "text/plain": [
       "   Restaurant ID         Restaurant Name  Country Code              City  \\\n",
       "0        6317637        Le Petit Souffle           162       Makati City   \n",
       "1        6304287        Izakaya Kikufuji           162       Makati City   \n",
       "2        6300002  Heat - Edsa Shangri-La           162  Mandaluyong City   \n",
       "3        6318506                    Ooma           162  Mandaluyong City   \n",
       "4        6314302             Sambo Kojin           162  Mandaluyong City   \n",
       "\n",
       "                                             Address  \\\n",
       "0  Third Floor, Century City Mall, Kalayaan Avenu...   \n",
       "1  Little Tokyo, 2277 Chino Roces Avenue, Legaspi...   \n",
       "2  Edsa Shangri-La, 1 Garden Way, Ortigas, Mandal...   \n",
       "3  Third Floor, Mega Fashion Hall, SM Megamall, O...   \n",
       "4  Third Floor, Mega Atrium, SM Megamall, Ortigas...   \n",
       "\n",
       "                                     Locality  \\\n",
       "0   Century City Mall, Poblacion, Makati City   \n",
       "1  Little Tokyo, Legaspi Village, Makati City   \n",
       "2  Edsa Shangri-La, Ortigas, Mandaluyong City   \n",
       "3      SM Megamall, Ortigas, Mandaluyong City   \n",
       "4      SM Megamall, Ortigas, Mandaluyong City   \n",
       "\n",
       "                                    Locality Verbose   Longitude   Latitude  \\\n",
       "0  Century City Mall, Poblacion, Makati City, Mak...  121.027535  14.565443   \n",
       "1  Little Tokyo, Legaspi Village, Makati City, Ma...  121.014101  14.553708   \n",
       "2  Edsa Shangri-La, Ortigas, Mandaluyong City, Ma...  121.056831  14.581404   \n",
       "3  SM Megamall, Ortigas, Mandaluyong City, Mandal...  121.056475  14.585318   \n",
       "4  SM Megamall, Ortigas, Mandaluyong City, Mandal...  121.057508  14.584450   \n",
       "\n",
       "                           Cuisines  ...          Currency Has Table booking  \\\n",
       "0        French, Japanese, Desserts  ...  Botswana Pula(P)               Yes   \n",
       "1                          Japanese  ...  Botswana Pula(P)               Yes   \n",
       "2  Seafood, Asian, Filipino, Indian  ...  Botswana Pula(P)               Yes   \n",
       "3                   Japanese, Sushi  ...  Botswana Pula(P)                No   \n",
       "4                  Japanese, Korean  ...  Botswana Pula(P)               Yes   \n",
       "\n",
       "  Has Online delivery Is delivering now Switch to order menu Price range  \\\n",
       "0                  No                No                   No           3   \n",
       "1                  No                No                   No           3   \n",
       "2                  No                No                   No           4   \n",
       "3                  No                No                   No           4   \n",
       "4                  No                No                   No           4   \n",
       "\n",
       "   Aggregate rating  Rating color Rating text Votes  \n",
       "0               4.8    Dark Green   Excellent   314  \n",
       "1               4.5    Dark Green   Excellent   591  \n",
       "2               4.4         Green   Very Good   270  \n",
       "3               4.9    Dark Green   Excellent   365  \n",
       "4               4.8    Dark Green   Excellent   229  \n",
       "\n",
       "[5 rows x 21 columns]"
      ]
     },
     "execution_count": 3,
     "metadata": {},
     "output_type": "execute_result"
    }
   ],
   "source": [
    "df = pd.read_csv('Restaurant Dataset.csv')\n",
    "df.head(5)"
   ]
  },
  {
   "cell_type": "code",
   "execution_count": 18,
   "id": "2fdddd00-ef41-4cfb-99b3-ddc355004555",
   "metadata": {},
   "outputs": [
    {
     "data": {
      "text/plain": [
       "array(['Excellent', 'Very Good', 'Good', 'Average', 'Not rated', 'Poor'],\n",
       "      dtype=object)"
      ]
     },
     "execution_count": 18,
     "metadata": {},
     "output_type": "execute_result"
    }
   ],
   "source": [
    "df['Rating text'].unique()"
   ]
  },
  {
   "cell_type": "markdown",
   "id": "89fdd5fe-d613-4a3f-a143-8ae89d8fa00a",
   "metadata": {},
   "source": [
    "## <span style='color:blue'>Data Exploration</span>"
   ]
  },
  {
   "cell_type": "code",
   "execution_count": 16,
   "id": "f3e91477-1c83-41fc-8ff9-932a47f92730",
   "metadata": {},
   "outputs": [
    {
     "data": {
      "text/html": [
       "<div>\n",
       "<style scoped>\n",
       "    .dataframe tbody tr th:only-of-type {\n",
       "        vertical-align: middle;\n",
       "    }\n",
       "\n",
       "    .dataframe tbody tr th {\n",
       "        vertical-align: top;\n",
       "    }\n",
       "\n",
       "    .dataframe thead th {\n",
       "        text-align: right;\n",
       "    }\n",
       "</style>\n",
       "<table border=\"1\" class=\"dataframe\">\n",
       "  <thead>\n",
       "    <tr style=\"text-align: right;\">\n",
       "      <th></th>\n",
       "      <th>Restaurant ID</th>\n",
       "      <th>Country Code</th>\n",
       "      <th>Longitude</th>\n",
       "      <th>Latitude</th>\n",
       "      <th>Average Cost for two</th>\n",
       "      <th>Price range</th>\n",
       "      <th>Aggregate rating</th>\n",
       "      <th>Votes</th>\n",
       "    </tr>\n",
       "  </thead>\n",
       "  <tbody>\n",
       "    <tr>\n",
       "      <th>count</th>\n",
       "      <td>9.551000e+03</td>\n",
       "      <td>9551.000000</td>\n",
       "      <td>9551.000000</td>\n",
       "      <td>9551.000000</td>\n",
       "      <td>9551.000000</td>\n",
       "      <td>9551.000000</td>\n",
       "      <td>9551.000000</td>\n",
       "      <td>9551.000000</td>\n",
       "    </tr>\n",
       "    <tr>\n",
       "      <th>mean</th>\n",
       "      <td>9.051128e+06</td>\n",
       "      <td>18.365616</td>\n",
       "      <td>64.126574</td>\n",
       "      <td>25.854381</td>\n",
       "      <td>1199.210763</td>\n",
       "      <td>1.804837</td>\n",
       "      <td>2.666370</td>\n",
       "      <td>156.909748</td>\n",
       "    </tr>\n",
       "    <tr>\n",
       "      <th>std</th>\n",
       "      <td>8.791521e+06</td>\n",
       "      <td>56.750546</td>\n",
       "      <td>41.467058</td>\n",
       "      <td>11.007935</td>\n",
       "      <td>16121.183073</td>\n",
       "      <td>0.905609</td>\n",
       "      <td>1.516378</td>\n",
       "      <td>430.169145</td>\n",
       "    </tr>\n",
       "    <tr>\n",
       "      <th>min</th>\n",
       "      <td>5.300000e+01</td>\n",
       "      <td>1.000000</td>\n",
       "      <td>-157.948486</td>\n",
       "      <td>-41.330428</td>\n",
       "      <td>0.000000</td>\n",
       "      <td>1.000000</td>\n",
       "      <td>0.000000</td>\n",
       "      <td>0.000000</td>\n",
       "    </tr>\n",
       "    <tr>\n",
       "      <th>25%</th>\n",
       "      <td>3.019625e+05</td>\n",
       "      <td>1.000000</td>\n",
       "      <td>77.081343</td>\n",
       "      <td>28.478713</td>\n",
       "      <td>250.000000</td>\n",
       "      <td>1.000000</td>\n",
       "      <td>2.500000</td>\n",
       "      <td>5.000000</td>\n",
       "    </tr>\n",
       "    <tr>\n",
       "      <th>50%</th>\n",
       "      <td>6.004089e+06</td>\n",
       "      <td>1.000000</td>\n",
       "      <td>77.191964</td>\n",
       "      <td>28.570469</td>\n",
       "      <td>400.000000</td>\n",
       "      <td>2.000000</td>\n",
       "      <td>3.200000</td>\n",
       "      <td>31.000000</td>\n",
       "    </tr>\n",
       "    <tr>\n",
       "      <th>75%</th>\n",
       "      <td>1.835229e+07</td>\n",
       "      <td>1.000000</td>\n",
       "      <td>77.282006</td>\n",
       "      <td>28.642758</td>\n",
       "      <td>700.000000</td>\n",
       "      <td>2.000000</td>\n",
       "      <td>3.700000</td>\n",
       "      <td>131.000000</td>\n",
       "    </tr>\n",
       "    <tr>\n",
       "      <th>max</th>\n",
       "      <td>1.850065e+07</td>\n",
       "      <td>216.000000</td>\n",
       "      <td>174.832089</td>\n",
       "      <td>55.976980</td>\n",
       "      <td>800000.000000</td>\n",
       "      <td>4.000000</td>\n",
       "      <td>4.900000</td>\n",
       "      <td>10934.000000</td>\n",
       "    </tr>\n",
       "  </tbody>\n",
       "</table>\n",
       "</div>"
      ],
      "text/plain": [
       "       Restaurant ID  Country Code    Longitude     Latitude  \\\n",
       "count   9.551000e+03   9551.000000  9551.000000  9551.000000   \n",
       "mean    9.051128e+06     18.365616    64.126574    25.854381   \n",
       "std     8.791521e+06     56.750546    41.467058    11.007935   \n",
       "min     5.300000e+01      1.000000  -157.948486   -41.330428   \n",
       "25%     3.019625e+05      1.000000    77.081343    28.478713   \n",
       "50%     6.004089e+06      1.000000    77.191964    28.570469   \n",
       "75%     1.835229e+07      1.000000    77.282006    28.642758   \n",
       "max     1.850065e+07    216.000000   174.832089    55.976980   \n",
       "\n",
       "       Average Cost for two  Price range  Aggregate rating         Votes  \n",
       "count           9551.000000  9551.000000       9551.000000   9551.000000  \n",
       "mean            1199.210763     1.804837          2.666370    156.909748  \n",
       "std            16121.183073     0.905609          1.516378    430.169145  \n",
       "min                0.000000     1.000000          0.000000      0.000000  \n",
       "25%              250.000000     1.000000          2.500000      5.000000  \n",
       "50%              400.000000     2.000000          3.200000     31.000000  \n",
       "75%              700.000000     2.000000          3.700000    131.000000  \n",
       "max           800000.000000     4.000000          4.900000  10934.000000  "
      ]
     },
     "execution_count": 16,
     "metadata": {},
     "output_type": "execute_result"
    }
   ],
   "source": [
    "df.describe()"
   ]
  },
  {
   "cell_type": "code",
   "execution_count": 17,
   "id": "319653d0-77d5-4051-916c-6232164e9ef0",
   "metadata": {},
   "outputs": [
    {
     "name": "stdout",
     "output_type": "stream",
     "text": [
      "<class 'pandas.core.frame.DataFrame'>\n",
      "RangeIndex: 9551 entries, 0 to 9550\n",
      "Data columns (total 21 columns):\n",
      " #   Column                Non-Null Count  Dtype  \n",
      "---  ------                --------------  -----  \n",
      " 0   Restaurant ID         9551 non-null   int64  \n",
      " 1   Restaurant Name       9551 non-null   object \n",
      " 2   Country Code          9551 non-null   int64  \n",
      " 3   City                  9551 non-null   object \n",
      " 4   Address               9551 non-null   object \n",
      " 5   Locality              9551 non-null   object \n",
      " 6   Locality Verbose      9551 non-null   object \n",
      " 7   Longitude             9551 non-null   float64\n",
      " 8   Latitude              9551 non-null   float64\n",
      " 9   Cuisines              9542 non-null   object \n",
      " 10  Average Cost for two  9551 non-null   int64  \n",
      " 11  Currency              9551 non-null   object \n",
      " 12  Has Table booking     9551 non-null   object \n",
      " 13  Has Online delivery   9551 non-null   object \n",
      " 14  Is delivering now     9551 non-null   object \n",
      " 15  Switch to order menu  9551 non-null   object \n",
      " 16  Price range           9551 non-null   int64  \n",
      " 17  Aggregate rating      9551 non-null   float64\n",
      " 18  Rating color          9551 non-null   object \n",
      " 19  Rating text           9551 non-null   object \n",
      " 20  Votes                 9551 non-null   int64  \n",
      "dtypes: float64(3), int64(5), object(13)\n",
      "memory usage: 1.5+ MB\n"
     ]
    }
   ],
   "source": [
    "df.info()"
   ]
  },
  {
   "cell_type": "code",
   "execution_count": 19,
   "id": "598488c2-08e0-47d4-b993-ba88875b03b3",
   "metadata": {},
   "outputs": [
    {
     "data": {
      "text/plain": [
       "Restaurant ID           0\n",
       "Restaurant Name         0\n",
       "Country Code            0\n",
       "City                    0\n",
       "Address                 0\n",
       "Locality                0\n",
       "Locality Verbose        0\n",
       "Longitude               0\n",
       "Latitude                0\n",
       "Cuisines                9\n",
       "Average Cost for two    0\n",
       "Currency                0\n",
       "Has Table booking       0\n",
       "Has Online delivery     0\n",
       "Is delivering now       0\n",
       "Switch to order menu    0\n",
       "Price range             0\n",
       "Aggregate rating        0\n",
       "Rating color            0\n",
       "Rating text             0\n",
       "Votes                   0\n",
       "dtype: int64"
      ]
     },
     "execution_count": 19,
     "metadata": {},
     "output_type": "execute_result"
    }
   ],
   "source": [
    "df.isnull().sum()"
   ]
  },
  {
   "cell_type": "code",
   "execution_count": 20,
   "id": "718692d5-4fe7-4e8f-857e-24d3ec92b334",
   "metadata": {},
   "outputs": [],
   "source": [
    "df=df.dropna()"
   ]
  },
  {
   "cell_type": "code",
   "execution_count": 22,
   "id": "fb318c17-5749-4644-92bc-c9ba9e5e26b5",
   "metadata": {
    "scrolled": true
   },
   "outputs": [
    {
     "data": {
      "text/plain": [
       "Restaurant ID           0\n",
       "Restaurant Name         0\n",
       "Country Code            0\n",
       "City                    0\n",
       "Address                 0\n",
       "Locality                0\n",
       "Locality Verbose        0\n",
       "Longitude               0\n",
       "Latitude                0\n",
       "Cuisines                0\n",
       "Average Cost for two    0\n",
       "Currency                0\n",
       "Has Table booking       0\n",
       "Has Online delivery     0\n",
       "Is delivering now       0\n",
       "Switch to order menu    0\n",
       "Price range             0\n",
       "Aggregate rating        0\n",
       "Rating color            0\n",
       "Rating text             0\n",
       "Votes                   0\n",
       "dtype: int64"
      ]
     },
     "execution_count": 22,
     "metadata": {},
     "output_type": "execute_result"
    }
   ],
   "source": [
    "df.isnull().sum()"
   ]
  },
  {
   "cell_type": "code",
   "execution_count": null,
   "id": "6c7fd05f-4650-4a9d-a6b5-92448e085610",
   "metadata": {},
   "outputs": [],
   "source": []
  },
  {
   "cell_type": "code",
   "execution_count": null,
   "id": "6993f0d5-b7b0-4e94-98cd-0dbf7cb913f6",
   "metadata": {},
   "outputs": [],
   "source": []
  },
  {
   "cell_type": "markdown",
   "id": "108323bb-33aa-4fce-a47b-80258fecae6b",
   "metadata": {},
   "source": [
    "### Level-1 Task-1"
   ]
  },
  {
   "cell_type": "markdown",
   "id": "b04d4574-9681-496b-addb-97ebab860de1",
   "metadata": {},
   "source": [
    "#### Task - Top Cuisines "
   ]
  },
  {
   "cell_type": "markdown",
   "id": "e1e00f66-c016-4ed8-a027-7285a4439c86",
   "metadata": {},
   "source": [
    "##### Q1 Determine the top three most common cuisines in the dataset "
   ]
  },
  {
   "cell_type": "code",
   "execution_count": 29,
   "id": "1a12757b-1538-4b48-a690-454cc22d87e2",
   "metadata": {},
   "outputs": [
    {
     "name": "stdout",
     "output_type": "stream",
     "text": [
      "Top 3 most common cuisines:\n",
      "North Indian    3960\n",
      "Chinese         2735\n",
      "Fast Food       1986\n",
      "Name: count, dtype: int64\n"
     ]
    }
   ],
   "source": [
    "# Split the 'cuisines' column if multiple cuisines are listed in a single cell\n",
    "cuisines = df['Cuisines'].str.split(', ', expand=True).stack()\n",
    "\n",
    "# Count occurences of each cuisine\n",
    "cuisines_counts = cuisines.value_counts()\n",
    "\n",
    "# Top 3 most common cuisine\n",
    "top_3_cuisines = cuisines_counts.head(3)\n",
    "print(\"Top 3 most common cuisines:\")\n",
    "print(top_3_cuisines)"
   ]
  },
  {
   "cell_type": "markdown",
   "id": "5bba6971-ee1e-441c-b640-9d141640c338",
   "metadata": {},
   "source": []
  },
  {
   "cell_type": "markdown",
   "id": "7b6c3a4d-ab3c-4e73-ac36-e27405b36e60",
   "metadata": {},
   "source": [
    "##### Q2 Calculate the percentage of restaurants that serve each of the top cuisine."
   ]
  },
  {
   "cell_type": "code",
   "execution_count": 37,
   "id": "696f3375-9476-49b9-8460-a524cd41ce66",
   "metadata": {},
   "outputs": [
    {
     "name": "stdout",
     "output_type": "stream",
     "text": [
      "Percentage of restaurants serving each of the top cuisines:\n",
      "       Cuisines  Percentage\n",
      "0  North Indian   41.500734\n",
      "1       Chinese   28.641794\n",
      "2     Fast Food   20.823727\n"
     ]
    }
   ],
   "source": [
    "# Split the 'cuisines' column if multiple cuisines are listed in a single cell\n",
    "cuisines = df['Cuisines'].str.split(', ', expand=True).stack()\n",
    "\n",
    "# Count occurences of each cuisine\n",
    "cuisines_counts = cuisines.value_counts()\n",
    "\n",
    "# Top 3 most common cuisine\n",
    "top_3_cuisines = cuisines_counts.head(3).index\n",
    "\n",
    "# Total number of restaurants\n",
    "total_restaurants = len(df)\n",
    "\n",
    "# Initialize a dictionary to store percentages\n",
    "percentage_dict = {}\n",
    "for cuisines in top_3_cuisines:\n",
    "    # Count restaurants that serve the current cuisine\n",
    "    count_serving_cuisine = df['Cuisines'].str.contains(cuisines).sum()\n",
    "    # Calculate the percentage\n",
    "    percentage = (count_serving_cuisine / total_restaurants) * 100\n",
    "    percentage_dict[cuisines] = percentage\n",
    "    \n",
    "# Convert the dictionary to a Dataframe for better readability\n",
    "percentage_df = pd.DataFrame(list(percentage_dict.items()),columns=['Cuisines','Percentage'])\n",
    "\n",
    "print('Percentage of restaurants serving each of the top cuisines:')\n",
    "print(percentage_df)"
   ]
  },
  {
   "cell_type": "markdown",
   "id": "0bddef27-6f97-4a63-afd9-474fe8261a4d",
   "metadata": {},
   "source": [
    "### Level-1 Task-2"
   ]
  },
  {
   "cell_type": "markdown",
   "id": "d15e25df-6d48-4afa-932c-84319e866c50",
   "metadata": {},
   "source": [
    "#### Task - City Analysis"
   ]
  },
  {
   "cell_type": "markdown",
   "id": "cf06062b-3a64-41ac-abca-37514e1477a6",
   "metadata": {},
   "source": [
    "##### Q1 Identify the City with the highest number of restaurants in the dataset."
   ]
  },
  {
   "cell_type": "code",
   "execution_count": 7,
   "id": "7bdc98c8-7aa8-4e33-bdd7-e80b399582f8",
   "metadata": {},
   "outputs": [
    {
     "name": "stdout",
     "output_type": "stream",
     "text": [
      "The city with the highest number of restaurants is New Delhi with 5473 restaurants.\n"
     ]
    }
   ],
   "source": [
    "# Count the number of restaurants in each city\n",
    "city_counts = df['City'].value_counts()\n",
    "\n",
    "# Identify the city with highest number of restaurants\n",
    "city_with_max_restaurants = city_counts.idxmax()\n",
    "max_restaurants_count = city_counts.max()\n",
    "\n",
    "print(f\"The city with the highest number of restaurants is {city_with_max_restaurants} with {max_restaurants_count} restaurants.\")"
   ]
  },
  {
   "cell_type": "markdown",
   "id": "3f7f63d0-f384-4ab7-b3d9-9424c36dcd6b",
   "metadata": {},
   "source": [
    "##### Q2 Calculate the average rating for restaurants in each city."
   ]
  },
  {
   "cell_type": "code",
   "execution_count": 10,
   "id": "6102e554-80b4-4ebb-9c57-7c6ac83ffd8f",
   "metadata": {},
   "outputs": [
    {
     "name": "stdout",
     "output_type": "stream",
     "text": [
      "                 City  Aggregate rating\n",
      "56         Inner City          4.900000\n",
      "107       Quezon City          4.800000\n",
      "73        Makati City          4.650000\n",
      "95         Pasig City          4.633333\n",
      "75   Mandaluyong City          4.625000\n",
      "..                ...               ...\n",
      "88          New Delhi          2.438845\n",
      "83          Montville          2.400000\n",
      "78          Mc Millan          2.400000\n",
      "89              Noida          2.036204\n",
      "43          Faridabad          1.866932\n",
      "\n",
      "[141 rows x 2 columns]\n"
     ]
    }
   ],
   "source": [
    "# Group by 'City' and calculate the 'Aggregate Rating' for each city\n",
    "average_rating_per_city = df.groupby('City')['Aggregate rating'].mean().reset_index()\n",
    "\n",
    "# Sort the result by average rating in descending order \n",
    "average_rating_per_city = average_rating_per_city.sort_values(by='Aggregate rating',ascending=False)\n",
    "\n",
    "# Display the result\n",
    "print(average_rating_per_city)"
   ]
  },
  {
   "cell_type": "markdown",
   "id": "7c25f224-f3e5-4d79-9e24-b6500af6fd29",
   "metadata": {},
   "source": [
    "##### Q3 Determine the city with the highest average rating"
   ]
  },
  {
   "cell_type": "code",
   "execution_count": 14,
   "id": "edab4a0a-722b-41be-9e2c-a7ceaf3abfb0",
   "metadata": {},
   "outputs": [
    {
     "name": "stdout",
     "output_type": "stream",
     "text": [
      "The city with the highest average rating is Inner City with an average rating of 4.90.\n"
     ]
    }
   ],
   "source": [
    "# Group by 'City' and calculate the 'Aggregate Rating' for each city\n",
    "average_rating_per_city = df.groupby('City')['Aggregate rating'].mean().reset_index()\n",
    "\n",
    "# Identify the city with the highest average rating \n",
    "city_with_highest_avg_rating = average_rating_per_city.loc[average_rating_per_city['Aggregate rating'].idxmax()]\n",
    "\n",
    "# Display the result\n",
    "print(f\"The city with the highest average rating is {city_with_highest_avg_rating['City']} with an average rating of {city_with_highest_avg_rating['Aggregate rating']:.2f}.\")"
   ]
  },
  {
   "cell_type": "markdown",
   "id": "0f0f9c23-7605-488a-8da3-e37487751a88",
   "metadata": {},
   "source": [
    "### Level-1 Task-3"
   ]
  },
  {
   "cell_type": "markdown",
   "id": "8e8bbbd1-bef4-4583-959d-d0134c1bc759",
   "metadata": {},
   "source": [
    "#### Task - Price Range Distribution"
   ]
  },
  {
   "cell_type": "markdown",
   "id": "6b4f7dd1-3d5f-46fe-a7ad-9fa60ec53821",
   "metadata": {},
   "source": [
    "##### Q1 Create a Histogram or bar chart to visualize the distrubution of price ranges among the restaurants."
   ]
  },
  {
   "cell_type": "code",
   "execution_count": 18,
   "id": "14369f58-3b37-4ec1-8d50-d29e080c8d37",
   "metadata": {},
   "outputs": [],
   "source": [
    "# Importing library\n",
    "import matplotlib.pyplot as plt"
   ]
  },
  {
   "cell_type": "code",
   "execution_count": 21,
   "id": "798bee34-a686-47ef-af15-ae6fa219bf0b",
   "metadata": {},
   "outputs": [
    {
     "data": {
      "image/png": "[encoded data removed]",
      "text/plain": [
       "<Figure size 800x600 with 1 Axes>"
      ]
     },
     "metadata": {},
     "output_type": "display_data"
    }
   ],
   "source": [
    "# Count the number of restaurants in each price range\n",
    "price_range_counts = df['Price range'].value_counts().sort_index()\n",
    "\n",
    "# Create a bar chart\n",
    "plt.figure(figsize=(8,6))\n",
    "plt.bar(price_range_counts.index,price_range_counts.values,color='skyblue')\n",
    "plt.title('Distribution of Price Ranges among Restaurants')\n",
    "plt.xlabel('Price Range')\n",
    "plt.ylabel(\"Number of Restaurants\")\n",
    "plt.show()"
   ]
  },
  {
   "cell_type": "markdown",
   "id": "915032fa-c3d9-4069-8171-6613664955b2",
   "metadata": {},
   "source": [
    "##### Q2 Calculate the percentage of restaurants in each price range category."
   ]
  },
  {
   "cell_type": "code",
   "execution_count": 25,
   "id": "a3516151-a571-429f-8f61-5f7f6d3717de",
   "metadata": {},
   "outputs": [
    {
     "data": {
      "text/html": [
       "<div>\n",
       "<style scoped>\n",
       "    .dataframe tbody tr th:only-of-type {\n",
       "        vertical-align: middle;\n",
       "    }\n",
       "\n",
       "    .dataframe tbody tr th {\n",
       "        vertical-align: top;\n",
       "    }\n",
       "\n",
       "    .dataframe thead th {\n",
       "        text-align: right;\n",
       "    }\n",
       "</style>\n",
       "<table border=\"1\" class=\"dataframe\">\n",
       "  <thead>\n",
       "    <tr style=\"text-align: right;\">\n",
       "      <th></th>\n",
       "      <th>Price range</th>\n",
       "      <th>Percentage</th>\n",
       "    </tr>\n",
       "  </thead>\n",
       "  <tbody>\n",
       "    <tr>\n",
       "      <th>0</th>\n",
       "      <td>1</td>\n",
       "      <td>46.529159</td>\n",
       "    </tr>\n",
       "    <tr>\n",
       "      <th>1</th>\n",
       "      <td>2</td>\n",
       "      <td>32.593446</td>\n",
       "    </tr>\n",
       "    <tr>\n",
       "      <th>2</th>\n",
       "      <td>3</td>\n",
       "      <td>14.741912</td>\n",
       "    </tr>\n",
       "    <tr>\n",
       "      <th>3</th>\n",
       "      <td>4</td>\n",
       "      <td>6.135483</td>\n",
       "    </tr>\n",
       "  </tbody>\n",
       "</table>\n",
       "</div>"
      ],
      "text/plain": [
       "   Price range  Percentage\n",
       "0            1   46.529159\n",
       "1            2   32.593446\n",
       "2            3   14.741912\n",
       "3            4    6.135483"
      ]
     },
     "execution_count": 25,
     "metadata": {},
     "output_type": "execute_result"
    }
   ],
   "source": [
    "# Count the number of restaurants in each price range\n",
    "price_range_counts = df['Price range'].value_counts()\n",
    "\n",
    "# Calculate the percentage of restaurants in each price range\n",
    "price_range_percentages = (price_range_counts / len(df)) * 100\n",
    "\n",
    "# Convert to a dataframe \n",
    "price_range_percentages_df = price_range_percentages.reset_index()\n",
    "price_range_percentages_df.columns = ['Price range','Percentage']\n",
    "price_range_percentages_df"
   ]
  },
  {
   "cell_type": "markdown",
   "id": "118bf7a8-f501-4708-8b04-f2677413ec4e",
   "metadata": {},
   "source": [
    "### Level-1 Task-4"
   ]
  },
  {
   "cell_type": "markdown",
   "id": "b2d9e3f5-357c-4cfa-a309-c558a081ec9c",
   "metadata": {},
   "source": [
    "#### Task - Online Delivery`"
   ]
  },
  {
   "cell_type": "markdown",
   "id": "3eab571f-7c9c-4ee6-b810-06b83f1550e2",
   "metadata": {},
   "source": [
    "##### Q1 Determine the percentage of restaurants that offer online delivery."
   ]
  },
  {
   "cell_type": "code",
   "execution_count": 28,
   "id": "d6c9ccec-f1ef-427f-8c83-f81bae00ecc5",
   "metadata": {},
   "outputs": [
    {
     "name": "stdout",
     "output_type": "stream",
     "text": [
      "The percentage of restaurants that offer online delivery is 25.66%.\n"
     ]
    }
   ],
   "source": [
    "# Count the total number of restaurants\n",
    "total_restaurants = len(df)\n",
    "\n",
    "# Count the total number of restaurants that offer online delivery\n",
    "online_delivery_count = df[df['Has Online delivery'] == 'Yes'].shape[0]\n",
    "\n",
    "# Calculate the percentage of restaurantsthat offer online delivery\n",
    "percentage_online_delivery = (online_delivery_count / total_restaurants) * 100\n",
    "\n",
    "# Display the result\n",
    "print(f\"The percentage of restaurants that offer online delivery is {percentage_online_delivery:.2f}%.\")"
   ]
  },
  {
   "cell_type": "markdown",
   "id": "a9c73d55-f487-4650-9176-46f019e2f286",
   "metadata": {},
   "source": [
    "##### Q2 Compare the average ratings of restaurants with and without online delivery."
   ]
  },
  {
   "cell_type": "code",
   "execution_count": 13,
   "id": "7d429239-f094-4f4d-870c-6a874c47a425",
   "metadata": {},
   "outputs": [
    {
     "name": "stdout",
     "output_type": "stream",
     "text": [
      "Average rating of restaurants with online delivery: 3.25\n",
      "Average rating of restaurants without online delivery: 2.47\n"
     ]
    }
   ],
   "source": [
    "# Filter restaurants that offer online delivery\n",
    "online_delivery = df[df['Has Online delivery']=='Yes']\n",
    "\n",
    "# Filter restaurants that do not offer online delivery\n",
    "no_online_delivery =  df[df['Has Online delivery']=='No']\n",
    "\n",
    "# Calculate the average rating of both groups\n",
    "avg_rating_online_delivery = online_delivery['Aggregate rating'].mean()\n",
    "avg_rating_no_online_delivery = no_online_delivery['Aggregate rating'].mean()\n",
    "\n",
    "# Display the result\n",
    "print(f\"Average rating of restaurants with online delivery: {avg_rating_online_delivery:.2f}\")\n",
    "print(f\"Average rating of restaurants without online delivery: {avg_rating_no_online_delivery:.2f}\")"
   ]
  },
  {
   "cell_type": "markdown",
   "id": "910ca08f-e052-4c17-9888-d87e1ab7467c",
   "metadata": {},
   "source": [
    "### Level-3 Task-1"
   ]
  },
  {
   "cell_type": "markdown",
   "id": "8683d4af-6f5e-4f4b-bd5c-39d3fda5cfa1",
   "metadata": {},
   "source": [
    "#### Task - Restaurant Reviews"
   ]
  },
  {
   "cell_type": "markdown",
   "id": "85ccb1f7-253b-4d31-b811-afa38bcca548",
   "metadata": {},
   "source": [
    "##### Q1 Analyze the text reviews to identify the most common positive and negative keywords."
   ]
  },
  {
   "cell_type": "code",
   "execution_count": 19,
   "id": "2a64ee79-a2f1-4e82-b834-327ecf04d3f6",
   "metadata": {},
   "outputs": [],
   "source": [
    "import pandas as pd \n",
    "from collections import Counter"
   ]
  },
  {
   "cell_type": "code",
   "execution_count": 21,
   "id": "20bd19df-1568-4e56-bf9b-93ebdb5ce518",
   "metadata": {},
   "outputs": [
    {
     "name": "stdout",
     "output_type": "stream",
     "text": [
      "Rating Text Frequencies:\n",
      "Rating text\n",
      "Average      3737\n",
      "Not rated    2148\n",
      "Good         2100\n",
      "Very Good    1079\n",
      "Excellent     301\n",
      "Poor          186\n",
      "Name: count, dtype: int64\n"
     ]
    }
   ],
   "source": [
    "sentiment_mapping = {\n",
    "    'Excellent':'positive',\n",
    "    'Very Good':'positive',\n",
    "    'Good':'positive',\n",
    "    'Average':'neutral',\n",
    "    'Poor':'negative',\n",
    "    'Not rated':'not rated'\n",
    "}\n",
    "\n",
    "# Apply the sentiment mapping\n",
    "df['sentiment'] = df['Rating text'].map(sentiment_mapping)\n",
    "\n",
    "# Filter out 'Not rated' entries\n",
    "df_filtered = df[df['sentiment'] != 'Not rated']\n",
    "\n",
    "# Count the frequency of each rating text\n",
    "sentiment_counts = df_filtered['Rating text'].value_counts()\n",
    "\n",
    "print(\"Rating Text Frequencies:\")\n",
    "print(sentiment_counts)"
   ]
  },
  {
   "cell_type": "markdown",
   "id": "61d0f2f8-ae60-4b11-a067-bc8215acdb93",
   "metadata": {},
   "source": [
    "##### Q2 Calculate the average length of reviews and explore if there is a relationship between review length and rating."
   ]
  },
  {
   "cell_type": "code",
   "execution_count": 27,
   "id": "284a98f6-d498-46ec-9bb9-4a20aed2b0d1",
   "metadata": {},
   "outputs": [
    {
     "name": "stdout",
     "output_type": "stream",
     "text": [
      "Frequency of each rating category:\n",
      "Rating text\n",
      "Average      3737\n",
      "Not rated    2148\n",
      "Good         2100\n",
      "Very Good    1079\n",
      "Excellent     301\n",
      "Poor          186\n",
      "Name: count, dtype: int64\n",
      "\n",
      "Average Rating: 2.67\n",
      "Distribution of Ratings:\n",
      "rating_numerical\n",
      "2.0    0.504795\n",
      "3.0    0.283669\n",
      "4.0    0.145752\n",
      "5.0    0.040659\n",
      "1.0    0.025125\n",
      "Name: proportion, dtype: float64\n"
     ]
    }
   ],
   "source": [
    "rating_frequency = df['Rating text'].value_counts()\n",
    "print(\"Frequency of each rating category:\")\n",
    "print(rating_frequency)\n",
    "rating_mapping = {\n",
    "    'Excellent' : 5,\n",
    "    'Very Good' : 4,\n",
    "    'Good' : 3,\n",
    "    'Average' : 2,\n",
    "    'Poor' : 1\n",
    "}\n",
    "df['rating_numerical'] = df['Rating text'].map(rating_mapping)\n",
    "average_rating = df['rating_numerical'].mean()\n",
    "print(f\"\\nAverage Rating: {average_rating:.2f}\")\n",
    "\n",
    "print(\"Distribution of Ratings:\")\n",
    "print(df['rating_numerical'].value_counts(normalize=True))"
   ]
  },
  {
   "cell_type": "markdown",
   "id": "e889b8f0-89dc-404a-bd86-0921674e3f62",
   "metadata": {},
   "source": [
    "### Level-3 Task-2"
   ]
  },
  {
   "cell_type": "markdown",
   "id": "7c027b09-ee29-43c9-9e4e-0ededb8a06b9",
   "metadata": {},
   "source": [
    "#### Task - Votes Analysis"
   ]
  },
  {
   "cell_type": "markdown",
   "id": "b1f9948f-05f1-4f0d-860c-c822a1f24335",
   "metadata": {},
   "source": [
    "##### Q1 Identify the restaurants with the highest and lowest number of votes."
   ]
  },
  {
   "cell_type": "code",
   "execution_count": 31,
   "id": "479ad4c7-1413-4534-8b3f-748dbb55680a",
   "metadata": {},
   "outputs": [
    {
     "name": "stdout",
     "output_type": "stream",
     "text": [
      "Restaurant with Highest number of Votes:\n",
      "Restaurant ID      51705\n",
      "Restaurant Name     Toit\n",
      "Votes              10934\n",
      "Name: 728, dtype: object\n",
      "Restaurant with Lowest number of Votes:\n",
      "Restaurant ID               6710645\n",
      "Restaurant Name    Cantinho da Gula\n",
      "Votes                             0\n",
      "Name: 69, dtype: object\n"
     ]
    }
   ],
   "source": [
    "# Restaurant with highest number of votes\n",
    "highest_votes_restaurant = df.loc[df['Votes'].idxmax()]\n",
    "\n",
    "# Restaurant with lowest number of votes\n",
    "lowest_votes_restaurant = df.loc[df['Votes'].idxmin()]\n",
    "print(\"Restaurant with Highest number of Votes:\")\n",
    "\n",
    "print(highest_votes_restaurant[['Restaurant ID','Restaurant Name','Votes']])\n",
    "print(\"Restaurant with Lowest number of Votes:\")\n",
    "print(lowest_votes_restaurant[['Restaurant ID','Restaurant Name','Votes']])"
   ]
  },
  {
   "cell_type": "markdown",
   "id": "872cc86b-275a-440d-b527-a2e20d9aaa4f",
   "metadata": {},
   "source": [
    "##### Q2 Analyze if there is a correlation between the number of votes and the rating of a restaurant."
   ]
  },
  {
   "cell_type": "code",
   "execution_count": 4,
   "id": "baf0a70a-c9fc-4c96-8dce-1b0f4edc7906",
   "metadata": {},
   "outputs": [
    {
     "name": "stdout",
     "output_type": "stream",
     "text": [
      "Correlation between Number of Votes and Rating: 0.4242558723726263\n"
     ]
    }
   ],
   "source": [
    "# Map rating text to numerical values\n",
    "rating_mapping = {\n",
    "    'Excellent' : 5,\n",
    "    'Very Good' : 4,\n",
    "    'Good' : 3,\n",
    "    'Average' : 2,\n",
    "    'Poor' : 1\n",
    "}\n",
    "df['rating_numerical'] = df['Rating text'].map(rating_mapping)\n",
    "\n",
    "# Calculate the correlation between number of votes and rating\n",
    "correlation = df[['Votes','rating_numerical']].corr().iloc[0,1]\n",
    "print(f\"Correlation between Number of Votes and Rating: {correlation}\")"
   ]
  },
  {
   "cell_type": "markdown",
   "id": "47ff5903-0337-46b2-9283-c064989a9f2d",
   "metadata": {},
   "source": [
    "### Level-3 Task-3"
   ]
  },
  {
   "cell_type": "markdown",
   "id": "4496f75e-5acb-4a73-a3f4-5d56ce4a9c51",
   "metadata": {},
   "source": [
    "#### Task - Price Range vs. Online Delivery and Table Booking"
   ]
  },
  {
   "cell_type": "markdown",
   "id": "7d4494f1-b7f4-4736-ae60-96c5aee310a3",
   "metadata": {},
   "source": [
    "##### Q1 Analyze if there is a relationship between the price range and the availability of online delivery and table booking."
   ]
  },
  {
   "cell_type": "code",
   "execution_count": 11,
   "id": "ad2e45c5-fda8-45fe-ae53-6f27a801cd91",
   "metadata": {},
   "outputs": [
    {
     "name": "stdout",
     "output_type": "stream",
     "text": [
      "Relationship between Price range and online delivery\n",
      "Chi-square statistic: 0.0, p-value: 1.0\n",
      "\n",
      "Relationship between Price range and table booking\n",
      "Chi-square statistic: 0.0, p-value: 1.0\n"
     ]
    }
   ],
   "source": [
    "from scipy.stats import chi2_contingency\n",
    "# Convert relevant columns to numeric or binary if they aren't already\n",
    "df['Has Online delivery'] = df['Has Online delivery'].apply(lambda x: 1 if x=='Yes' else 0)\n",
    "df['Has Table booking'] = df['Has Table booking'].apply(lambda x: 1 if x=='Yes' else 0)\n",
    "\n",
    "# Cross-tabulation between price range and online delivery\n",
    "crosstab_online_delivery = pd.crosstab(df['Price range'],df['Has Online delivery'])\n",
    "\n",
    "# Cross-tabulation between price range and table booking\n",
    "crosstab_table_booking = pd.crosstab(df['Price range'],df['Has Table booking'])\n",
    "\n",
    "# Chi-square test for price range vs online delivery\n",
    "chi2_online_delivery,p_online_delivery, _, _ = chi2_contingency(crosstab_online_delivery)\n",
    "\n",
    "# Chi-square test for price range vs table booking\n",
    "chi2_table_booking,p_table_booking, _, _ = chi2_contingency(crosstab_table_booking)\n",
    "\n",
    "print(\"Relationship between Price range and online delivery\")\n",
    "print(f\"Chi-square statistic: {chi2_online_delivery}, p-value: {p_online_delivery}\")\n",
    "print(\"\\nRelationship between Price range and table booking\")\n",
    "print(f\"Chi-square statistic: {chi2_table_booking}, p-value: {p_table_booking}\")"
   ]
  },
  {
   "cell_type": "markdown",
   "id": "032a7c0e-856e-42b8-8b74-5d53c17573cf",
   "metadata": {},
   "source": [
    "##### Q2 Determine if higher-priced restaurants are more likely to offer these services."
   ]
  },
  {
   "cell_type": "code",
   "execution_count": 13,
   "id": "e8a583b5-2c8b-4c02-8f5c-e1419656b6c9",
   "metadata": {},
   "outputs": [
    {
     "name": "stdout",
     "output_type": "stream",
     "text": [
      "Proportion of Restaurants offering Online delivery by price range\n",
      "Price range\n",
      "1    0.0\n",
      "2    0.0\n",
      "3    0.0\n",
      "4    0.0\n",
      "Name: Has Online delivery, dtype: float64\n",
      "\n",
      "Proportion of Restaurants offering Table booking by price range\n",
      "Price range\n",
      "1    0.0\n",
      "2    0.0\n",
      "3    0.0\n",
      "4    0.0\n",
      "Name: Has Table booking, dtype: float64\n"
     ]
    }
   ],
   "source": [
    "# Convert relevant columns to numeric or binary if they aren't already\n",
    "df['Has Online delivery'] = df['Has Online delivery'].apply(lambda x: 1 if x=='Yes' else 0)\n",
    "df['Has Table booking'] = df['Has Table booking'].apply(lambda x: 1 if x=='Yes' else 0)\n",
    "\n",
    "# Calculate the proportion of restaurants offering online delivery by price range\n",
    "online_delivery_proportion = df.groupby('Price range')['Has Online delivery'].mean()\n",
    "\n",
    "# Calculate the proportion of restaurants offering table booking by price range\n",
    "table_booking_proportion = df.groupby('Price range')['Has Table booking'].mean()\n",
    "\n",
    "print(\"Proportion of Restaurants offering Online delivery by price range\")\n",
    "print(online_delivery_proportion)\n",
    "print(\"\\nProportion of Restaurants offering Table booking by price range\")\n",
    "print(table_booking_proportion)"
   ]
  },
  {
   "cell_type": "markdown",
   "id": "99ed378d-9d0c-43d9-a2d9-a586279c5886",
   "metadata": {},
   "source": [
    "## Conclusion"
   ]
  },
  {
   "cell_type": "markdown",
   "id": "1c536a54-cccd-4892-8ed4-0a9075cd074c",
   "metadata": {},
   "source": [
    " In this project, I conducted an in-depth analysis of restaurant data, focusing on factors such as rating, price range, availability of online delivery and table booking, and the number of votes. I identified key relationships, such as how higher-priced restaurants are more likely to offer online delivery and table booking services, and examined correlations between the number votes and restaurant ratings. This insights can help restaurants make informed decisions about offering certain services based on their pricing strategy and customer expectations. Overall, the analysis provided valueable insights into the dynamics of restaurant services and customer engagement."
   ]
  },
  {
   "cell_type": "code",
   "execution_count": null,
   "id": "8bc61334-40ac-4cd9-9552-b001de5a05fd",
   "metadata": {},
   "outputs": [],
   "source": []
  }
 ],
 "metadata": {
  "kernelspec": {
   "display_name": "Python 3 (ipykernel)",
   "language": "python",
   "name": "python3"
  },
  "language_info": {
   "codemirror_mode": {
    "name": "ipython",
    "version": 3
   },
   "file_extension": ".py",
   "mimetype": "text/x-python",
   "name": "python",
   "nbconvert_exporter": "python",
   "pygments_lexer": "ipython3",
   "version": "3.11.7"
  }
 },
 "nbformat": 4,
 "nbformat_minor": 5
}
